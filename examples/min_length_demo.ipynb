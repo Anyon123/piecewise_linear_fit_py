{
 "cells": [
  {
   "cell_type": "code",
   "execution_count": 1,
   "metadata": {},
   "outputs": [],
   "source": [
    "import numpy as np\n",
    "import matplotlib.pyplot as plt\n",
    "import pwlf\n",
    "pwlf.__version__\n",
    "%matplotlib inline"
   ]
  },
  {
   "cell_type": "markdown",
   "metadata": {},
   "source": [
    "## Force minimum length of segments to be greater than x\n",
    "\n",
    "[Issue 66](https://github.com/cjekel/piecewise_linear_fit_py/issues/66)\n",
    "\n",
    "This jupyter notebook uses SLSQP to apply a constraint function to force a minimum line segment length. You'll need to supply a starting point (or guess) to start the optimization. If you don't know what is a good starting point, check out how I use Latin Hypercube random sampling to run multiple optimizations in the ```fitfast``` function. \n",
    "\n",
    "\n",
    "A constraint function could look like:\n",
    "```python\n",
    "def my_con(var):\n",
    "    var = np.sort(var)\n",
    "    distances = np.zeros(number_of_line_segments)\n",
    "    distances[0] = var[0] - my_pwlf.break_0\n",
    "    distances[-1] = my_pwlf.break_n - var[-1]\n",
    "    for i in range(number_of_line_segments - 2):\n",
    "        distances[i+1] = var[i+1] - var[i]\n",
    "    # element must be greater or equal to 0.0\n",
    "    # in a successfully optimized problem\n",
    "    return np.array((distances.min() - min_length))\n",
    "```\n",
    "\n",
    "This is a single constraint for the minimum length of all segments. It's possible that the ```min()``` in this function will create issues with the gradient of the constraint. If you run into issues with this, you may want to investigate using a separate constraint for each line segment. That could be done by changing:\n",
    "```python\n",
    "    return np.array((distances.min() - min_length))\n",
    "```\n",
    "to\n",
    "```python\n",
    "    return distances - min_length\n",
    "```"
   ]
  },
  {
   "cell_type": "code",
   "execution_count": 2,
   "metadata": {},
   "outputs": [],
   "source": [
    "# your data\n",
    "y = np.array([0.00000000e+00, 9.69801700e-03, 2.94350340e-02,\n",
    "              4.39052750e-02, 5.45343950e-02, 6.74104940e-02,\n",
    "              8.34831790e-02, 1.02580042e-01, 1.22767939e-01,\n",
    "              1.42172312e-01, 0.00000000e+00, 8.58600000e-06,\n",
    "              8.31543400e-03, 2.34184100e-02, 3.39709150e-02,\n",
    "              4.03581990e-02, 4.53545600e-02, 5.02345260e-02,\n",
    "              5.55253360e-02, 6.14750770e-02, 6.82125120e-02,\n",
    "              7.55892510e-02, 8.38356810e-02, 9.26413070e-02,\n",
    "              1.02039790e-01, 1.11688258e-01, 1.21390666e-01,\n",
    "              1.31196948e-01, 0.00000000e+00, 1.56706510e-02,\n",
    "              3.54628780e-02, 4.63739040e-02, 5.61442590e-02,\n",
    "              6.78542550e-02, 8.16388310e-02, 9.77756110e-02,\n",
    "              1.16531753e-01, 1.37038283e-01, 0.00000000e+00,\n",
    "              1.16951050e-02, 3.12089850e-02, 4.41776550e-02,\n",
    "              5.42877590e-02, 6.63321350e-02, 8.07655920e-02,\n",
    "              9.70363280e-02, 1.15706975e-01, 1.36687642e-01,\n",
    "              0.00000000e+00, 1.50144640e-02, 3.44519970e-02,\n",
    "              4.55907760e-02, 5.59556700e-02, 6.88450940e-02,\n",
    "              8.41374060e-02, 1.01254006e-01, 1.20605073e-01,\n",
    "              1.41881288e-01, 1.62618058e-01])\n",
    "x = np.array([0.00000000e+00, 8.82678000e-03, 3.25615100e-02,\n",
    "              5.66106800e-02, 7.95549800e-02, 1.00936330e-01,\n",
    "              1.20351520e-01, 1.37442010e-01, 1.51858250e-01,\n",
    "              1.64433570e-01, 0.00000000e+00, -2.12600000e-05,\n",
    "              7.03872000e-03, 1.85494500e-02, 3.00926700e-02,\n",
    "              4.17617000e-02, 5.37279600e-02, 6.54941000e-02,\n",
    "              7.68092100e-02, 8.76596300e-02, 9.80525800e-02,\n",
    "              1.07961810e-01, 1.17305210e-01, 1.26063930e-01,\n",
    "              1.34180360e-01, 1.41725010e-01, 1.48629710e-01,\n",
    "              1.55374770e-01, 0.00000000e+00, 1.65610200e-02,\n",
    "              3.91016100e-02, 6.18679400e-02, 8.30997400e-02,\n",
    "              1.02132890e-01, 1.19011260e-01, 1.34620080e-01,\n",
    "              1.49429370e-01, 1.63539960e-01, -0.00000000e+00,\n",
    "              1.01980300e-02, 3.28642800e-02, 5.59461900e-02,\n",
    "              7.81388400e-02, 9.84458400e-02, 1.16270210e-01,\n",
    "              1.31279040e-01, 1.45437090e-01, 1.59627540e-01,\n",
    "              0.00000000e+00, 1.63404300e-02, 4.00086000e-02,\n",
    "              6.34390200e-02, 8.51085900e-02, 1.04787860e-01,\n",
    "              1.22120350e-01, 1.36931660e-01, 1.50958760e-01,\n",
    "              1.65299640e-01, 1.79942720e-01])\n"
   ]
  },
  {
   "cell_type": "code",
   "execution_count": 3,
   "metadata": {},
   "outputs": [],
   "source": [
    "# initialize piecewise linear fit with your x and y data\n",
    "my_pwlf = pwlf.PiecewiseLinFit(x, y)\n",
    "\n",
    "# initialize custom optimization\n",
    "number_of_line_segments = 3\n",
    "my_pwlf.use_custom_opt(number_of_line_segments)\n",
    "\n",
    "# minium length of a segment\n",
    "min_length = 0.05"
   ]
  },
  {
   "cell_type": "code",
   "execution_count": 4,
   "metadata": {},
   "outputs": [],
   "source": [
    "def my_con(var):\n",
    "    var = np.sort(var)\n",
    "    distances = np.zeros(number_of_line_segments)\n",
    "    distances[0] = var[0] - my_pwlf.break_0\n",
    "    distances[-1] = my_pwlf.break_n - var[-1]\n",
    "    for i in range(number_of_line_segments - 2):\n",
    "        distances[i+1] = var[i+1] - var[i]\n",
    "    # element must be greater or equal to 0.0\n",
    "    # in a successfully optimized problem\n",
    "    return np.array((distances.min() - min_length))\n"
   ]
  },
  {
   "cell_type": "code",
   "execution_count": 5,
   "metadata": {},
   "outputs": [
    {
     "name": "stdout",
     "output_type": "stream",
     "text": [
      "Optimization terminated successfully.    (Exit mode 0)\n",
      "            Current function value: 0.00035834090548162784\n",
      "            Iterations: 4\n",
      "            Function evaluations: 18\n",
      "            Gradient evaluations: 4\n"
     ]
    }
   ],
   "source": [
    "from scipy.optimize import fmin_slsqp\n",
    "# i have number_of_line_segments - 1 number of variables\n",
    "# let's guess the correct location of the two unknown variables\n",
    "# (the program defaults to have end segments at x0= min(x)\n",
    "# and xn=max(x)\n",
    "xGuess = np.zeros(number_of_line_segments - 1)\n",
    "xGuess[0] = 0.06\n",
    "xGuess[1] = 0.13\n",
    "bounds = np.zeros((number_of_line_segments - 1, 2))\n",
    "bounds[:, 0] = my_pwlf.break_0\n",
    "bounds[:, 1] = my_pwlf.break_n\n",
    "\n",
    "res = fmin_slsqp(my_pwlf.fit_with_breaks_opt, xGuess, f_ieqcons=my_con,\n",
    "                 bounds=bounds, iter=100, acc=1e-06, iprint=1,\n",
    "                 epsilon=1.4901161193847656e-08)\n"
   ]
  },
  {
   "cell_type": "code",
   "execution_count": 6,
   "metadata": {},
   "outputs": [
    {
     "data": {
      "image/png": "[encoded data removed]",
      "text/plain": [
       "<Figure size 432x288 with 1 Axes>"
      ]
     },
     "metadata": {
      "needs_background": "light"
     },
     "output_type": "display_data"
    }
   ],
   "source": [
    "# set up the break point locations\n",
    "x0 = np.zeros(number_of_line_segments + 1)\n",
    "x0[0] = np.min(x)\n",
    "x0[-1] = np.max(x)\n",
    "x0[1:-1] = res\n",
    "\n",
    "# calculate the parameters based on the optimal break point locations\n",
    "my_pwlf.fit_with_breaks(x0)\n",
    "\n",
    "# predict for the determined points\n",
    "xHat = np.linspace(min(x), max(x), num=10000)\n",
    "yHat = my_pwlf.predict(xHat)\n",
    "\n",
    "plt.figure()\n",
    "plt.plot(x, y, 'o')\n",
    "plt.plot(xHat, yHat, '-')\n",
    "plt.show()"
   ]
  },
  {
   "cell_type": "code",
   "execution_count": null,
   "metadata": {},
   "outputs": [],
   "source": []
  }
 ],
 "metadata": {
  "kernelspec": {
   "display_name": "Python 3",
   "language": "python",
   "name": "python3"
  },
  "language_info": {
   "codemirror_mode": {
    "name": "ipython",
    "version": 3
   },
   "file_extension": ".py",
   "mimetype": "text/x-python",
   "name": "python",
   "nbconvert_exporter": "python",
   "pygments_lexer": "ipython3",
   "version": "3.6.10"
  }
 },
 "nbformat": 4,
 "nbformat_minor": 4
}
